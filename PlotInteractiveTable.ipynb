{
 "cells": [
  {
   "cell_type": "code",
   "execution_count": 2,
   "id": "181e983b-9853-4611-9c15-6e8304fdbc81",
   "metadata": {},
   "outputs": [
    {
     "data": {
      "application/vnd.jupyter.widget-view+json": {
       "model_id": "6f822739ad124de783ef4c8abd9c9e56",
       "version_major": 2,
       "version_minor": 0
      },
      "text/plain": [
       "HBox(children=(Dropdown(description='Column:', options=('Feature', ' Feature Value', 'Fisher Test p-value', ' …"
      ]
     },
     "metadata": {},
     "output_type": "display_data"
    },
    {
     "data": {
      "application/vnd.jupyter.widget-view+json": {
       "model_id": "1d62d4b6a991440e863dfcf3aafb58ae",
       "version_major": 2,
       "version_minor": 0
      },
      "text/plain": [
       "Output()"
      ]
     },
     "metadata": {},
     "output_type": "display_data"
    }
   ],
   "source": [
    "import pandas as pd\n",
    "import ipywidgets as widgets\n",
    "from IPython.display import display, clear_output\n",
    "\n",
    "# Function to sort DataFrame based on selected column and order\n",
    "def sort_dataframe(b):\n",
    "    clear_output(wait=True)\n",
    "    with out:\n",
    "        column = dropdown_columns.value\n",
    "        ascending = dropdown_order.value == 'Ascending'\n",
    "        display(df.sort_values(by=column, ascending=ascending))\n",
    "\n",
    "# Load DataFrame\n",
    "file_path = 'MMP-cluster_RankFisherAndFS.csv'  # Change to your CSV file path\n",
    "df = pd.read_csv(file_path)\n",
    "\n",
    "# Create dropdowns for column selection and sort order\n",
    "dropdown_columns = widgets.Dropdown(options=df.columns, description='Column:')\n",
    "dropdown_order = widgets.Dropdown(options=['Ascending', 'Descending'], description='Order:')\n",
    "button = widgets.Button(description='Sort')\n",
    "out = widgets.Output()\n",
    "\n",
    "# Set up the handler for button click\n",
    "button.on_click(sort_dataframe)\n",
    "\n",
    "# Display widgets\n",
    "display(widgets.HBox([dropdown_columns, dropdown_order, button]))\n",
    "display(out)\n"
   ]
  },
  {
   "cell_type": "code",
   "execution_count": null,
   "id": "39220b76-5c05-4748-bab4-a82607bcb315",
   "metadata": {},
   "outputs": [],
   "source": []
  }
 ],
 "metadata": {
  "kernelspec": {
   "display_name": "Python 3 (ipykernel)",
   "language": "python",
   "name": "python3"
  },
  "language_info": {
   "codemirror_mode": {
    "name": "ipython",
    "version": 3
   },
   "file_extension": ".py",
   "mimetype": "text/x-python",
   "name": "python",
   "nbconvert_exporter": "python",
   "pygments_lexer": "ipython3",
   "version": "3.11.7"
  }
 },
 "nbformat": 4,
 "nbformat_minor": 5
}
